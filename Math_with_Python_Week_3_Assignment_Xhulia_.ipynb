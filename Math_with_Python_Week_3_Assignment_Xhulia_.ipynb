{
  "nbformat": 4,
  "nbformat_minor": 0,
  "metadata": {
    "colab": {
      "provenance": [],
      "authorship_tag": "ABX9TyM2xIbnCTluStYHqETv37QZ",
      "include_colab_link": true
    },
    "kernelspec": {
      "name": "python3",
      "display_name": "Python 3"
    },
    "language_info": {
      "name": "python"
    }
  },
  "cells": [
    {
      "cell_type": "markdown",
      "metadata": {
        "id": "view-in-github",
        "colab_type": "text"
      },
      "source": [
        "<a href=\"https://colab.research.google.com/github/xhuliaturkaj/BridgeMSDS/blob/main/Math_with_Python_Week_3_Assignment_Xhulia_.ipynb\" target=\"_parent\"><img src=\"https://colab.research.google.com/assets/colab-badge.svg\" alt=\"Open In Colab\"/></a>"
      ]
    },
    {
      "cell_type": "markdown",
      "source": [
        "Assignment Week 3 - Math with Python\n",
        "MSDS 2023 Bridge Program\n",
        "Xhulia Turkaj"
      ],
      "metadata": {
        "id": "mNkhRJo9p-yi"
      }
    },
    {
      "cell_type": "markdown",
      "source": [
        "**Question 1**\n",
        "\n",
        "\n",
        "The weights of steers in a herd are distributed normally.  The variance is 40,000 and the mean steer weight is 1300 lbs.  Find the probability that the weight of a randomly selected steer is greater than 979 lbs. (Round your answer to 4 decimal places)"
      ],
      "metadata": {
        "id": "r3E91Ai7p-3I"
      }
    },
    {
      "cell_type": "code",
      "source": [
        "from scipy.stats import norm\n",
        "\n",
        "q = 979\n",
        "mean = 1300\n",
        "variance = 40000\n",
        "std_dev = variance ** 0.5\n",
        "\n",
        "\n",
        "\n",
        "probability_lower = norm.cdf(q, loc=mean, scale=std_dev)\n",
        "\n",
        "probability_greater = round(1 - probability_lower, 4)\n",
        "\n",
        "\n",
        "print(\"The probability that the weight of a randomly selected steer is greater than 979 lbs is :\", probability_greater,\".\")\n"
      ],
      "metadata": {
        "colab": {
          "base_uri": "https://localhost:8080/"
        },
        "id": "mmDXOi-K1Pka",
        "outputId": "53839bb0-d15c-42c7-afee-09a83cdd450b"
      },
      "execution_count": 63,
      "outputs": [
        {
          "output_type": "stream",
          "name": "stdout",
          "text": [
            "The probability that the weight of a randomly selected steer is greater than 979 lbs is : 0.9458 .\n"
          ]
        }
      ]
    },
    {
      "cell_type": "markdown",
      "source": [
        "**Question 2**\n",
        "\n",
        "SVGA monitors manufactured by TSI Electronics have life spans that have a normal distribution with a variance of 1,960,000 and a mean life span of 11,000 hours.  If a SVGA monitor is selected at random, find the probability that the life span of the monitor will be more than 8340 hours. (Round your answer to 4 decimal places)."
      ],
      "metadata": {
        "id": "QLg01EFop-7G"
      }
    },
    {
      "cell_type": "code",
      "source": [
        "x= 8340\n",
        "mean = 11000\n",
        "variance = 1960000\n",
        "std_dev = variance ** 0.5\n",
        "\n",
        "\n",
        "\n",
        "probability_lower = norm.cdf(x, loc=mean, scale=std_dev)\n",
        "\n",
        "probability_greater = round(1 - probability_lower, 4)\n",
        "\n",
        "\n",
        "print(\"The probability that the life span of the monitor will be more than 8340 hours is : \", probability_greater, \".\")\n",
        "\n",
        "\n"
      ],
      "metadata": {
        "colab": {
          "base_uri": "https://localhost:8080/"
        },
        "id": "GJ3l5BP222AY",
        "outputId": "0a44f646-f5da-4db2-f811-2e7441fb7e11"
      },
      "execution_count": 64,
      "outputs": [
        {
          "output_type": "stream",
          "name": "stdout",
          "text": [
            "The probability that the life span of the monitor will be more than 8340 hours is :  0.9713 .\n"
          ]
        }
      ]
    },
    {
      "cell_type": "markdown",
      "source": [
        "**Question 3**\n",
        "\n",
        "Suppose the mean income of firms in the industry for a year is 80 million dollars with a standard deviation of 3 million dollars.  If incomes for the industry are distributed normally, what is the probability that a randomly selected firm will earn between 83 and 85 million dollars? (Round your answer to 4 decimal places)"
      ],
      "metadata": {
        "id": "4R0XuPKOp--D"
      }
    },
    {
      "cell_type": "code",
      "source": [
        "import math\n",
        "\n",
        "mean = 80\n",
        "std_dev = 3\n",
        "lower_bound = 83\n",
        "upper_bound = 85\n",
        "\n",
        "\n",
        "cdf_lower = norm.cdf(lower_bound, loc=mean, scale=std_dev)\n",
        "cdf_upper = norm.cdf(upper_bound, loc=mean, scale=std_dev)\n",
        "\n",
        "probability_between = round(cdf_upper - cdf_lower, 4)\n",
        "\n",
        "\n",
        "print(\"The probability that a randomly selected firm will earn between 83 and 85 million dollars is:\", probability_between, \".\")\n"
      ],
      "metadata": {
        "colab": {
          "base_uri": "https://localhost:8080/"
        },
        "id": "0aDMasNF41nG",
        "outputId": "f642f944-899c-4cc5-e3c1-ad3e5e74bfea"
      },
      "execution_count": 65,
      "outputs": [
        {
          "output_type": "stream",
          "name": "stdout",
          "text": [
            "The probability that a randomly selected firm will earn between 83 and 85 million dollars is: 0.1109 .\n"
          ]
        }
      ]
    },
    {
      "cell_type": "markdown",
      "source": [
        "**Question 4**\n",
        "\n",
        "Suppose GRE Verbal scores are normally distributed with a mean of 456 and a standard deviation of 123.  A university plans to offer tutoring jobs to students whose scores are in the top 14%.  What is the minimum score required for the job offer?  Round your answer to the nearest whole number, if necessary."
      ],
      "metadata": {
        "id": "uCiLnhPjqSxw"
      }
    },
    {
      "cell_type": "code",
      "source": [
        "mean = 456\n",
        "std_dev = 123\n",
        "percentile = 0.14\n",
        "\n",
        "min_score_required = round(norm.ppf(1 - percentile, loc=mean, scale=std_dev) )\n",
        "\n",
        "\n",
        "print(\"The minimum score required for the tutoring job offer is :\", min_score_required, \".\")"
      ],
      "metadata": {
        "colab": {
          "base_uri": "https://localhost:8080/"
        },
        "id": "MOAxkFCi5lTt",
        "outputId": "b6be3b53-4d9e-4fde-cfea-18194e78e992"
      },
      "execution_count": 66,
      "outputs": [
        {
          "output_type": "stream",
          "name": "stdout",
          "text": [
            "The minimum score required for the tutoring job offer is : 589 .\n"
          ]
        }
      ]
    },
    {
      "cell_type": "markdown",
      "source": [
        "**Question 5**\n",
        "\n",
        "The lengths of nails produced in a factory are normally distributed with a mean of 6.13 centimeters and a standard deviation of 0.06 centimeters.  Find the two lengths that separate the top 7% and the bottom 7%.  These lengths could serve as limits used to identify which nails should be rejected.  Round your answer to the nearest hundredth, if necessary."
      ],
      "metadata": {
        "id": "fWW_f7P9qS35"
      }
    },
    {
      "cell_type": "code",
      "source": [
        "\n",
        "mean = 6.13\n",
        "std_dev = 0.06\n",
        "percentile_bottom = 0.07\n",
        "percentile_top = 0.93\n",
        "\n",
        "\n",
        "length_bottom_7_percentile = round(norm.ppf(percentile_bottom, loc=mean, scale=std_dev), 2)\n",
        "length_top_7_percentile = round(norm.ppf(percentile_top, loc=mean, scale=std_dev),2)\n",
        "\n",
        "\n",
        "print(\"The length separating the bottom 7% is:\", length_bottom_7_percentile)\n",
        "print(\"The length separating the top 7% is:\", length_top_7_percentile)\n"
      ],
      "metadata": {
        "colab": {
          "base_uri": "https://localhost:8080/"
        },
        "id": "OVHz-3rZ6HfR",
        "outputId": "93b64b05-bd14-4536-c42e-901a27ca255a"
      },
      "execution_count": 67,
      "outputs": [
        {
          "output_type": "stream",
          "name": "stdout",
          "text": [
            "The length separating the bottom 7% is: 6.04\n",
            "The length separating the top 7% is: 6.22\n"
          ]
        }
      ]
    },
    {
      "cell_type": "markdown",
      "source": [
        "**Question 6**\n",
        "\n",
        "An English professor assigns letter grades on a test according to the following scheme.\n",
        "\tA:  Top 13% of scores\n",
        "\tB:  Scores below the top 13% and above the bottom 55%\n",
        "\tC:  Scores below the top 45% and above the bottom 20%\n",
        "\tD:  Scores below the top 80% and above the bottom 9%\n",
        "\tF:  Bottom 9% of scores\n",
        "\tScores on the test are normally distributed with a mean of 78.8 and a standard deviation of 9.8.  Find the numerical limits for a C grade.  Round your answers to the nearest whole number, if necessary.\n"
      ],
      "metadata": {
        "id": "nugRTvONqS6q"
      }
    },
    {
      "cell_type": "code",
      "source": [
        "\n",
        "\n",
        "mean = 78.8\n",
        "std_dev = 9.8\n",
        "p1 = 0.2\n",
        "p2 = 0.45\n",
        "\n",
        "\n",
        "q1 =round(norm.ppf(p1, loc=mean, scale=std_dev))\n",
        "q2 = round(norm.ppf(p2, loc=mean, scale=std_dev))\n",
        "\n",
        "\n",
        "print(\"The bottom numerical limit for a C grade is:\", q1)\n",
        "print(\"The top numerical limit for a C grade is :\", q2)\n"
      ],
      "metadata": {
        "colab": {
          "base_uri": "https://localhost:8080/"
        },
        "id": "6A-ZAGZG65Gs",
        "outputId": "c314648b-795c-475c-fc7a-2e8076f77ef5"
      },
      "execution_count": 68,
      "outputs": [
        {
          "output_type": "stream",
          "name": "stdout",
          "text": [
            "The bottom numerical limit for a C grade is: 71\n",
            "The top numerical limit for a C grade is : 78\n"
          ]
        }
      ]
    },
    {
      "cell_type": "markdown",
      "source": [
        "**Question 7**\n",
        "\n",
        "Suppose ACT Composite scores are normally distributed with a mean of 21.2 and a standard deviation of 5.4.  A university plans to admit students whose scores are in the top 45%.  What is the minimum score required for admission?  Round your answer to the nearest tenth, if necessary."
      ],
      "metadata": {
        "id": "U7g5B1AsqS-c"
      }
    },
    {
      "cell_type": "code",
      "source": [
        "\n",
        "\n",
        "mean = 21.2\n",
        "std_dev = 5.4\n",
        "percentile_top = 0.45\n",
        "\n",
        "min_score_required = round(norm.ppf(percentile_top, loc=mean, scale=std_dev),1)\n",
        "\n",
        "print(\"The minimum ACT Composite score required for admission is:\", min_score_required)\n"
      ],
      "metadata": {
        "colab": {
          "base_uri": "https://localhost:8080/"
        },
        "id": "JTRzpCqQ8WwC",
        "outputId": "a93e3dde-6f1a-44d0-a711-e613f44127d8"
      },
      "execution_count": 69,
      "outputs": [
        {
          "output_type": "stream",
          "name": "stdout",
          "text": [
            "The minimum ACT Composite score required for admission is: 20.5\n"
          ]
        }
      ]
    },
    {
      "cell_type": "markdown",
      "source": [
        "**Question 8**\n",
        "\n",
        "Consider the probability that less than 11 out of 151 students will not graduate on time.  Assume the probability that a given student will not graduate on time is 9%.  Approximate the probability using the normal distribution. (Round your answer to 4 decimal places.)"
      ],
      "metadata": {
        "id": "0EoJYwZ_qTBU"
      }
    },
    {
      "cell_type": "code",
      "source": [
        "\n",
        "\n",
        "n = 151\n",
        "p = 0.09\n",
        "\n",
        "mean = n * p\n",
        "variance = n * p * (1 - p)\n",
        "std_dev = math.sqrt(variance)\n",
        "\n",
        "\n",
        "probability_less_than_11 = round(norm.cdf(10.5, loc=mean, scale=std_dev),4)\n",
        "\n",
        "\n",
        "print(\"The probability that less than 11 out of 151 students will not graduate on time os :\", probability_less_than_11)\n"
      ],
      "metadata": {
        "colab": {
          "base_uri": "https://localhost:8080/"
        },
        "id": "avpcdqR78wec",
        "outputId": "5f49bbce-700a-4eb6-9775-53052fe8dfef"
      },
      "execution_count": 70,
      "outputs": [
        {
          "output_type": "stream",
          "name": "stdout",
          "text": [
            "The probability that less than 11 out of 151 students will not graduate on time os : 0.1898\n"
          ]
        }
      ]
    },
    {
      "cell_type": "markdown",
      "source": [
        "**Question 9**\n",
        "\n",
        "The mean lifetime of a tire is 48 months with a standard deviation of 7.  If 147 tires are sampled, what is the probability that the mean of the sample would be greater than 48.83 months? (Round your answer to 4 decimal places)"
      ],
      "metadata": {
        "id": "xsF3rL5QqTFH"
      }
    },
    {
      "cell_type": "code",
      "source": [
        "population_mean = 48\n",
        "population_std_dev = 7\n",
        "sample_size = 147\n",
        "\n",
        "\n",
        "standard_error = population_std_dev / math.sqrt(sample_size)\n",
        "\n",
        "probability_greater_than_48_83 = round(1 - norm.cdf(48.83, loc=population_mean, scale=standard_error),4)\n",
        "\n",
        "\n",
        "print(\"The probability that the sample mean is greater than 48.83 months is:\", probability_greater_than_48_83)"
      ],
      "metadata": {
        "colab": {
          "base_uri": "https://localhost:8080/"
        },
        "id": "vWpUhxv-9LRF",
        "outputId": "81846e1f-8966-493c-aba3-0d1ed281535c"
      },
      "execution_count": 71,
      "outputs": [
        {
          "output_type": "stream",
          "name": "stdout",
          "text": [
            "The probability that the sample mean is greater than 48.83 months is: 0.0753\n"
          ]
        }
      ]
    },
    {
      "cell_type": "markdown",
      "source": [
        "**Question 10**\n",
        "\n",
        "The quality control manager at a computer manufacturing company believes that the mean life of a computer is 91 months, with a standard deviation of 10.  If he is correct, what is the probability that the mean of a sample of 68 computers would be greater than 93.54 months? (Round your answer to 4 decimal places)"
      ],
      "metadata": {
        "id": "S-ZD9Yr7qTIY"
      }
    },
    {
      "cell_type": "code",
      "source": [
        "\n",
        "population_mean = 91\n",
        "population_std_dev = 10\n",
        "sample_size = 68\n",
        "\n",
        "\n",
        "standard_error = population_std_dev / math.sqrt(sample_size)\n",
        "\n",
        "probability_greater_than_93_54 = round (1 - norm.cdf(93.54, loc=population_mean, scale=standard_error),4)\n",
        "\n",
        "\n",
        "print(\"The probability that the sample mean is greater than 93.54 months is:\", probability_greater_than_93_54)\n"
      ],
      "metadata": {
        "colab": {
          "base_uri": "https://localhost:8080/"
        },
        "id": "JTZDAJaQ_K9Y",
        "outputId": "8ec1a766-901a-4cb5-bdfa-7632f9c34797"
      },
      "execution_count": 72,
      "outputs": [
        {
          "output_type": "stream",
          "name": "stdout",
          "text": [
            "The probability that the sample mean is greater than 93.54 months is: 0.0181\n"
          ]
        }
      ]
    },
    {
      "cell_type": "markdown",
      "source": [
        "**Question 11**\n",
        "\n",
        "A director of reservations believes that 7% of the ticketed passengers are no-shows.  If the director is right, what is the probability that the proportion of no-shows in a sample of 540 ticketed passengers would differ from the population proportion by less than 3%? (Round your answer to 4 decimal places)"
      ],
      "metadata": {
        "id": "UinQT-M8qTLV"
      }
    },
    {
      "cell_type": "code",
      "source": [
        "\n",
        "population_proportion = 0.07\n",
        "sample_size = 540\n",
        "\n",
        "\n",
        "standard_error = math.sqrt((population_proportion * (1 - population_proportion)) / sample_size)\n",
        "\n",
        "z_lower = (0.04 - population_proportion) / standard_error\n",
        "z_upper = (0.10 - population_proportion) / standard_error\n",
        "\n",
        "\n",
        "probability_within_3_percent = round(norm.cdf(z_upper) - norm.cdf(z_lower),4)\n",
        "\n",
        "\n",
        "print(\"The probability that the proportion of no-shows in a sample of 540 ticketed passengers would differ from the population proportion by less than 3% is :\", probability_within_3_percent)\n"
      ],
      "metadata": {
        "colab": {
          "base_uri": "https://localhost:8080/"
        },
        "id": "5KRa3Dx0ArGB",
        "outputId": "6f26a4fd-b2e5-41b5-b3de-8053abc05c15"
      },
      "execution_count": 73,
      "outputs": [
        {
          "output_type": "stream",
          "name": "stdout",
          "text": [
            "The probability that the proportion of no-shows in a sample of 540 ticketed passengers would differ from the population proportion by less than 3% is : 0.9937\n"
          ]
        }
      ]
    },
    {
      "cell_type": "markdown",
      "source": [
        "**Question 12**\n",
        "\n",
        "A bottle maker believes that 23% of his bottles are defective.  If the bottle maker is accurate, what is the probability that the proportion of defective bottles in a sample of 602 bottles would differ from the population proportion by greater than 4%? (Round your answer to 4 decimal places)"
      ],
      "metadata": {
        "id": "BRRaeZG0CN6W"
      }
    },
    {
      "cell_type": "code",
      "source": [
        "\n",
        "population_proportion = 0.23\n",
        "sample_size = 602\n",
        "\n",
        "\n",
        "standard_error = math.sqrt((population_proportion * (1 - population_proportion)) / sample_size)\n",
        "\n",
        "\n",
        "z_lower = (0.19 - population_proportion) / standard_error\n",
        "z_upper = (0.27 - population_proportion) / standard_error\n",
        "\n",
        "\n",
        "probability_greater_than_4_percent = round(1 - (norm.cdf(z_upper) - norm.cdf(z_lower)),4)\n",
        "\n",
        "\n",
        "\n",
        "print(\"The probability that the proportion of defective bottles in a sample of 602 bottles would differ from the population proportion by greater than 4% is :\", probability_greater_than_4_percent)\n"
      ],
      "metadata": {
        "colab": {
          "base_uri": "https://localhost:8080/"
        },
        "id": "hcT4XdOqBahv",
        "outputId": "f1a75452-7695-4f12-f58d-fee3d7dcc5e9"
      },
      "execution_count": 74,
      "outputs": [
        {
          "output_type": "stream",
          "name": "stdout",
          "text": [
            "The probability that the proportion of defective bottles in a sample of 602 bottles would differ from the population proportion by greater than 4% is : 0.0197\n"
          ]
        }
      ]
    },
    {
      "cell_type": "markdown",
      "source": [
        "**Question 13**\n",
        "\n",
        "A research company desires to know the mean consumption of beef per week among males over age 48.  Suppose a sample of size 208 is drawn with x ̅  = 3.9.  Assume ® = 0.8 .  Construct the 80% confidence interval for the mean number of lb. of beef per week among males over 48. (Round your answers to 1 decimal place)\n",
        "\n",
        "Lower Bound\n",
        "\n",
        "Upper Bound"
      ],
      "metadata": {
        "id": "QkmSeA8TqTTx"
      }
    },
    {
      "cell_type": "code",
      "source": [
        "\n",
        "sample_mean = 3.9\n",
        "population_std_dev = 0.8\n",
        "sample_size = 208\n",
        "confidence_level = 0.80\n",
        "\n",
        "\n",
        "z = norm.ppf(1 - (1 - confidence_level) / 2)\n",
        "\n",
        "standard_error = population_std_dev / math.sqrt(sample_size)\n",
        "\n",
        "lower_bound = round( sample_mean - z * standard_error, 1)\n",
        "upper_bound = round(sample_mean + z * standard_error,1)\n",
        "\n",
        "\n",
        "print(\"The lower bound of the confidence interval is:\", lower_bound)\n",
        "print(\"The upper bound of the confidence interval is:\", upper_bound)\n"
      ],
      "metadata": {
        "colab": {
          "base_uri": "https://localhost:8080/"
        },
        "id": "ghqSbzO2Ceim",
        "outputId": "a39c95e8-4e10-4102-8dfb-ff5ca2de59ce"
      },
      "execution_count": 75,
      "outputs": [
        {
          "output_type": "stream",
          "name": "stdout",
          "text": [
            "The lower bound of the confidence interval is: 3.8\n",
            "The upper bound of the confidence interval is: 4.0\n"
          ]
        }
      ]
    },
    {
      "cell_type": "markdown",
      "source": [
        "**Question 14**\n",
        "An economist wants to estimate the mean per capita income (in thousands of dollars) in a major city in California.  Suppose a sample of size 7472 is drawn with x ̅  = 16.6.  Assume ® = 11 .  Construct the 98% confidence interval for the mean per capita income. (Round your answers to 1 decimal place)\n",
        "\n",
        "Lower Bound\n",
        "\n",
        "Upper Bound"
      ],
      "metadata": {
        "id": "aosmpaB2qTYb"
      }
    },
    {
      "cell_type": "code",
      "source": [
        "\n",
        "sample_mean = 16.6\n",
        "population_std_dev = 11\n",
        "sample_size = 7472\n",
        "confidence_level = 0.98\n",
        "\n",
        "\n",
        "z = norm.ppf(1 - (1 - confidence_level) / 2)\n",
        "\n",
        "\n",
        "standard_error = population_std_dev / math.sqrt(sample_size)\n",
        "\n",
        "\n",
        "lower_bound = round(sample_mean - z * standard_error,1)\n",
        "upper_bound = round(sample_mean + z * standard_error,1)\n",
        "\n",
        "print(\"The lower bound of the confidence interval is:\", lower_bound)\n",
        "print(\"The upper bound of the confidence interval is:\", upper_bound)\n"
      ],
      "metadata": {
        "colab": {
          "base_uri": "https://localhost:8080/"
        },
        "id": "fsltO8pLD8pV",
        "outputId": "1217e28c-6380-4224-86ba-303108c4fbb1"
      },
      "execution_count": 76,
      "outputs": [
        {
          "output_type": "stream",
          "name": "stdout",
          "text": [
            "The lower bound of the confidence interval is: 16.3\n",
            "The upper bound of the confidence interval is: 16.9\n"
          ]
        }
      ]
    },
    {
      "cell_type": "markdown",
      "source": [
        "**Question 15**\n",
        "Find the value of t such that 0.05 of the area under the curve is to the left of t.  Assume the degrees of freedom equals 26.\n",
        "\n",
        "Step 1. Choose the picture which best describes the problem.\n",
        "\n",
        "\n",
        "\n",
        "\n",
        "\n",
        "\n",
        "\n",
        "\n",
        "\n",
        "\n",
        "\n",
        "\n",
        "\n",
        "\n",
        "\n",
        "\n",
        "Step 2. Write your answer below.\n"
      ],
      "metadata": {
        "id": "kt7Sg3Sgqy_C"
      }
    },
    {
      "cell_type": "code",
      "source": [
        "# Step:1\n",
        "from IPython.display import Image\n",
        "\n",
        "image_path = '/content/week3 Python.png'\n",
        "Image(image_path)"
      ],
      "metadata": {
        "colab": {
          "base_uri": "https://localhost:8080/",
          "height": 115
        },
        "id": "9zpx-fwVEk7z",
        "outputId": "67097d0a-e2bf-47ca-b39e-3c38dd71c5e2"
      },
      "execution_count": 77,
      "outputs": [
        {
          "output_type": "execute_result",
          "data": {
            "image/png": "[encoded data removed]",
            "text/plain": [
              "<IPython.core.display.Image object>"
            ]
          },
          "metadata": {},
          "execution_count": 77
        }
      ]
    },
    {
      "cell_type": "code",
      "source": [
        "# Step:2\n",
        "from scipy.stats import t\n",
        "\n",
        "probability = 0.05\n",
        "degrees_of_freedom = 26\n",
        "\n",
        "\n",
        "t.ppf(probability, df=degrees_of_freedom)\n",
        "\n",
        "print(\"Value of t:\", t_value)\n"
      ],
      "metadata": {
        "colab": {
          "base_uri": "https://localhost:8080/"
        },
        "id": "47QociB-EnGo",
        "outputId": "348ecd01-2196-44a7-9d9a-075f3c61ba78"
      },
      "execution_count": 78,
      "outputs": [
        {
          "output_type": "stream",
          "name": "stdout",
          "text": [
            "Value of t: -1.7056179197592731\n"
          ]
        }
      ]
    },
    {
      "cell_type": "markdown",
      "source": [
        "**Question 16**\n",
        "\n",
        "The following measurements ( in picocuries per liter ) were recorded by a set of helium gas detectors installed in a laboratory facility:  \n",
        "\t                                             383.6, 347.1, 371.9, 347.6, 325.8, 337\n",
        "\tUsing these measurements, construct a 90% confidence interval for the mean level of helium gas present in the facility.  Assume the population is normally distributed.  \n",
        "\n",
        "Step 1. Calculate the sample mean for the given sample data. (Round answer to 2 decimal places)\n",
        "\n",
        "\n",
        "Step 2. Calculate the sample standard deviation for the given sample data. (Round answer to 2 decimal places)\n",
        "\n",
        "\n",
        "Step 3. Find the critical value that should be used in constructing the confidence interval. (Round answer to 3 decimal places)\n",
        "\n",
        "\n",
        "Step 4. Construct the 90% confidence interval. (Round answer to 2 decimal places)\n",
        "\n",
        "\n"
      ],
      "metadata": {
        "id": "pg1Aku_uqzHb"
      }
    },
    {
      "cell_type": "code",
      "source": [
        "import statistics\n",
        "from scipy.stats import t\n",
        "\n",
        "\n",
        "sample_data = [383.6, 347.1, 371.9, 347.6, 325.8, 337]\n",
        "confidence_level = 0.90\n",
        "\n",
        "sample_mean = round( sum(sample_data) / len(sample_data),2)\n",
        "\n",
        "sample_std_dev = round(statistics.stdev(sample_data),2)\n",
        "\n",
        "\n",
        "degrees_of_freedom = len(sample_data) - 1\n",
        "\n",
        "\n",
        "critical_value = round( t.ppf(1 - (1 - confidence_level) / 2, df=degrees_of_freedom),3)\n",
        "\n",
        "\n",
        "\n",
        "lower_bound = round(sample_mean - critical_value * (sample_std_dev / (len(sample_data) ** 0.5)),2)\n",
        "upper_bound = round(sample_mean + critical_value * (sample_std_dev / (len(sample_data) ** 0.5)),2)\n",
        "\n",
        "\n",
        "print(\"Sample mean is :\", sample_mean)\n",
        "print(\"Sample standard deviation:\", sample_std_dev)\n",
        "print(\"Critical value is :\", critical_value)\n",
        "print(\"90% confidence interval is :\", (lower_bound, upper_bound))\n"
      ],
      "metadata": {
        "colab": {
          "base_uri": "https://localhost:8080/"
        },
        "id": "Zc1MamN7If6b",
        "outputId": "fc563fcc-93af-4a42-d70f-d18bf2455ff4"
      },
      "execution_count": 79,
      "outputs": [
        {
          "output_type": "stream",
          "name": "stdout",
          "text": [
            "Sample mean is : 352.17\n",
            "Sample standard deviation: 21.68\n",
            "Critical value is : 2.015\n",
            "90% confidence interval is : (334.34, 370.0)\n"
          ]
        }
      ]
    },
    {
      "cell_type": "markdown",
      "source": [
        "**Question 17**\n",
        "\n",
        "A random sample of 16 fields of spring wheat has a mean yield of 46.4 bushels per acre and standard deviation of 2.45 bushels per acre.  Determine the 80% confidence interval for the true mean yield.  Assume the population is normally distributed.  \n",
        "\n",
        "Step 1. Find the critical value that should be used in constructing the confidence interval. (Round answer to 3 decimal places)\n",
        "\n",
        "\n",
        "Step 2. Construct the 80% confidence interval. (Round answer to 1 decimal place)\n",
        "\n",
        "\n",
        "\n",
        "\n"
      ],
      "metadata": {
        "id": "SclF1koSqzVv"
      }
    },
    {
      "cell_type": "code",
      "source": [
        "# Step 1\n",
        "\n",
        "\n",
        "confidence_level = 0.80\n",
        "sample_size = 16\n",
        "degrees_of_freedom = sample_size - 1\n",
        "\n",
        "\n",
        "critical_value = round(t.ppf(1 - (1 - confidence_level) / 2, df=degrees_of_freedom), 3)\n",
        "\n",
        "\n",
        "print(\"Critical Value (t) is :\", critical_value)\n"
      ],
      "metadata": {
        "colab": {
          "base_uri": "https://localhost:8080/"
        },
        "id": "Uzy9cKFvJnk-",
        "outputId": "987ce473-86ac-47f8-e52d-3523ea342b05"
      },
      "execution_count": 80,
      "outputs": [
        {
          "output_type": "stream",
          "name": "stdout",
          "text": [
            "Critical Value (t) is : 1.341\n"
          ]
        }
      ]
    },
    {
      "cell_type": "code",
      "source": [
        "#Step 2\n",
        "sample_mean = 46.4\n",
        "sample_std_dev = 2.45\n",
        "\n",
        "standard_error = sample_std_dev / (sample_size ** 0.5)\n",
        "\n",
        "lower_bound = sample_mean - critical_value * standard_error\n",
        "upper_bound = sample_mean + critical_value * standard_error\n",
        "\n",
        "lower_bound = round(lower_bound, 1)\n",
        "upper_bound = round(upper_bound, 1)\n",
        "\n",
        "print(\"The 80% confidence interval is:\", (lower_bound, upper_bound))\n"
      ],
      "metadata": {
        "colab": {
          "base_uri": "https://localhost:8080/"
        },
        "id": "tL7uEN_zKr3Q",
        "outputId": "ae736476-8d79-498d-e45d-5c7260bd047f"
      },
      "execution_count": 81,
      "outputs": [
        {
          "output_type": "stream",
          "name": "stdout",
          "text": [
            "The 80% confidence interval is: (45.6, 47.2)\n"
          ]
        }
      ]
    },
    {
      "cell_type": "markdown",
      "source": [
        "**Question 18**\n",
        "\n",
        "A toy manufacturer wants to know how many new toys children buy each year.  She thinks the mean is 8 toys per year.  Assume a previous study found the standard deviation to be 1.9.  How large of a sample would be required in order to estimate the mean number of toys bought per child at the 99% confidence level with an error of at most 0.13 toys? (Round your answer up to the next integer)"
      ],
      "metadata": {
        "id": "bgmpfpkRq9cp"
      }
    },
    {
      "cell_type": "code",
      "source": [
        "import math\n",
        "\n",
        "\n",
        "confidence_level = 0.99\n",
        "standard_deviation = 1.9\n",
        "max_error = 0.13\n",
        "\n",
        "z = round(norm.ppf(1 - (1 - confidence_level) / 2),2)\n",
        "\n",
        "\n",
        "\n",
        "required_sample_size = math.ceil((z ** 2 * standard_deviation ** 2) / (max_error ** 2))\n",
        "\n",
        "print(\"Required Sample Size is :\", required_sample_size)\n"
      ],
      "metadata": {
        "colab": {
          "base_uri": "https://localhost:8080/"
        },
        "id": "u2Lw0BoZLAkA",
        "outputId": "02bf6c56-301b-48dd-a23b-978c30770bd0"
      },
      "execution_count": 82,
      "outputs": [
        {
          "output_type": "stream",
          "name": "stdout",
          "text": [
            "Required Sample Size is : 1422\n"
          ]
        }
      ]
    },
    {
      "cell_type": "markdown",
      "source": [
        "**Question 19**\n",
        "\n",
        "A research scientist wants to know how many times per hour a certain strand of bacteria reproduces.  He believes that the mean is 12.6.  Assume the variance is known to be 3.61.  How large of a sample would be required in order to estimate the mean number of reproductions per hour at the 95% confidence level with an error of at most 0.19 reproductions? (Round your answer up to the next integer)"
      ],
      "metadata": {
        "id": "iCkC89HMq9mJ"
      }
    },
    {
      "cell_type": "code",
      "source": [
        "import math\n",
        "from scipy.stats import norm\n",
        "\n",
        "# Given values\n",
        "confidence_level = 0.95\n",
        "variance = 3.61\n",
        "max_error = 0.19\n",
        "\n",
        "\n",
        "z = round(norm.ppf(1 - (1 - confidence_level) / 2),2)\n",
        "\n",
        "\n",
        "required_sample_size = math.ceil((z ** 2 * variance) / (max_error ** 2))\n",
        "\n",
        "\n",
        "print(\"Required Sample Size:\", required_sample_size)\n"
      ],
      "metadata": {
        "colab": {
          "base_uri": "https://localhost:8080/"
        },
        "id": "cykJgneOOF68",
        "outputId": "c4af9373-812a-4c48-837f-2a78ac4fbcb3"
      },
      "execution_count": 83,
      "outputs": [
        {
          "output_type": "stream",
          "name": "stdout",
          "text": [
            "Required Sample Size: 385\n"
          ]
        }
      ]
    },
    {
      "cell_type": "markdown",
      "source": [
        "**Question 20**\n",
        "\n",
        "The state education commission wants to estimate the fraction of tenth grade students that have reading skills at or below the eighth grade level.\n",
        "\n",
        "Step 1. Suppose a sample of 2089 tenth graders is drawn. Of the students sampled, 1734 read above the eighth grade level.  Using the data, estimate the proportion of tenth graders reading at or below the eighth grade level. (Write your answer as a fraction or a decimal number rounded to 3 decimal places)\n",
        "\n",
        "\n",
        "Step 2. Suppose a sample of 2089 tenth graders is drawn.  Of the students sampled, 1734 read above the eighth grade level.  Using the data, construct the 98% confidence interval for the population proportion of tenth graders reading at or below the eighth grade level. (Round your answers to 3 decimal places)\n",
        "\n",
        "\n",
        "\n",
        "\n",
        "\n"
      ],
      "metadata": {
        "id": "WIsDWK6orBqf"
      }
    },
    {
      "cell_type": "code",
      "source": [
        "# Step 1\n",
        "sample_size = 2089\n",
        "students_above_eighth_grade = 1734\n",
        "\n",
        "# Estimate the proportion\n",
        "proportion_below_eighth_grade = round((sample_size - students_above_eighth_grade) / sample_size,3)\n",
        "\n",
        "\n",
        "print(\"Proportion of tenth graders reading at or below eighth grade level is :\", proportion_below_eighth_grade)\n"
      ],
      "metadata": {
        "colab": {
          "base_uri": "https://localhost:8080/"
        },
        "id": "ku18AFgcR4Oy",
        "outputId": "a9f4c5d5-4047-4113-e475-eadd814d76a8"
      },
      "execution_count": 84,
      "outputs": [
        {
          "output_type": "stream",
          "name": "stdout",
          "text": [
            "Proportion of tenth graders reading at or below eighth grade level is : 0.17\n"
          ]
        }
      ]
    },
    {
      "cell_type": "code",
      "source": [
        "# Step 2\n",
        "\n",
        "confidence_level = 0.98\n",
        "\n",
        "\n",
        "z = round(norm.ppf(1 - (1 - confidence_level) / 2),2)\n",
        "\n",
        "standard_error = (proportion_below_eighth_grade * (1 - proportion_below_eighth_grade)) / sample_size\n",
        "standard_error = math.sqrt(standard_error)\n",
        "\n",
        "lower_bound = round(proportion_below_eighth_grade - z * standard_error,3)\n",
        "upper_bound = round(proportion_below_eighth_grade + z * standard_error,3)\n",
        "\n",
        "\n",
        "\n",
        "print(\"The 98% confidence interval for the proportion is :\", (lower_bound, upper_bound))\n"
      ],
      "metadata": {
        "colab": {
          "base_uri": "https://localhost:8080/"
        },
        "id": "RjuoIyA_SLZG",
        "outputId": "600dda75-af1c-43f3-fe66-63e4ad199a1f"
      },
      "execution_count": 85,
      "outputs": [
        {
          "output_type": "stream",
          "name": "stdout",
          "text": [
            "The 98% confidence interval for the proportion is : (0.151, 0.189)\n"
          ]
        }
      ]
    },
    {
      "cell_type": "markdown",
      "source": [
        "**Question 21**\n",
        "\n",
        "An environmentalist wants to find out the fraction of oil tankers that have spills each month.\n",
        "\n",
        "Step 1. Suppose a sample of 474 tankers is drawn.  Of these ships, 156 had spills.  Using the data, estimate the proportion of oil tankers that had spills. (Write your answer as a fraction or a decimal number rounded to 3 decimal places)\n",
        "\n",
        "\n",
        "\n",
        "\n",
        "Step 2. Suppose a sample of 474 tankers is drawn.  Of these ships, 156 had spills.  Using the data, construct the 95% confidence interval for the population proportion of oil tankers that have spills each month. (Round your answers to 3 decimal places)\n",
        "\n",
        "\n"
      ],
      "metadata": {
        "id": "Bc_G6FtJzUZw"
      }
    },
    {
      "cell_type": "code",
      "source": [
        "\n",
        "sample_size = 474\n",
        "tankers_with_spills = 156\n",
        "\n",
        "\n",
        "proportion_with_spills = round(tankers_with_spills / sample_size,3)\n",
        "\n",
        "\n",
        "print(\"The proportion of oil tankers with spills is:\", proportion_with_spills)\n"
      ],
      "metadata": {
        "colab": {
          "base_uri": "https://localhost:8080/"
        },
        "id": "p4zjqqbgdbRj",
        "outputId": "43fe319c-d6ee-4f35-8400-646a1daa3f0d"
      },
      "execution_count": 86,
      "outputs": [
        {
          "output_type": "stream",
          "name": "stdout",
          "text": [
            "The proportion of oil tankers with spills is: 0.329\n"
          ]
        }
      ]
    },
    {
      "cell_type": "code",
      "source": [
        "\n",
        "confidence_level = 0.95\n",
        "\n",
        "z = round( norm.ppf(1 - (1 - confidence_level) / 2),3)\n",
        "\n",
        "\n",
        "standard_error = (proportion_with_spills * (1 - proportion_with_spills)) / sample_size\n",
        "standard_error = math.sqrt(standard_error)\n",
        "\n",
        "\n",
        "lower_bound = round(proportion_with_spills - z * standard_error,3)\n",
        "upper_bound = round(proportion_with_spills + z * standard_error,3)\n",
        "\n",
        "\n",
        "\n",
        "print(\"The 95% Confidence Interval for the proportion is :\", (lower_bound, upper_bound))\n"
      ],
      "metadata": {
        "colab": {
          "base_uri": "https://localhost:8080/"
        },
        "id": "MLP81a3RdtRW",
        "outputId": "79d7744c-ac88-439c-970e-d0a3d2aafc97"
      },
      "execution_count": 87,
      "outputs": [
        {
          "output_type": "stream",
          "name": "stdout",
          "text": [
            "The 95% Confidence Interval for the proportion is : (0.287, 0.371)\n"
          ]
        }
      ]
    },
    {
      "cell_type": "markdown",
      "source": [
        "# New Section"
      ],
      "metadata": {
        "id": "1KQ-o4z8g0hb"
      }
    },
    {
      "cell_type": "code",
      "source": [
        "!jupyter nbconvert --execute --to html \"/Math_with_Python_Week_3_Assignment_Xhulia_-3.ipynb\""
      ],
      "metadata": {
        "colab": {
          "base_uri": "https://localhost:8080/"
        },
        "id": "of5vTsxJg8V_",
        "outputId": "e47f554c-ef1f-424e-80c4-6f4ea6a45e44"
      },
      "execution_count": 89,
      "outputs": [
        {
          "output_type": "stream",
          "name": "stdout",
          "text": [
            "[NbConvertApp] Converting notebook /Math_with_Python_Week_3_Assignment_Xhulia_-3.ipynb to html\n",
            "Traceback (most recent call last):\n",
            "  File \"/usr/local/bin/jupyter-nbconvert\", line 8, in <module>\n",
            "    sys.exit(main())\n",
            "  File \"/usr/local/lib/python3.10/dist-packages/jupyter_core/application.py\", line 285, in launch_instance\n",
            "    return super().launch_instance(argv=argv, **kwargs)\n",
            "  File \"/usr/local/lib/python3.10/dist-packages/traitlets/config/application.py\", line 992, in launch_instance\n",
            "    app.start()\n",
            "  File \"/usr/local/lib/python3.10/dist-packages/nbconvert/nbconvertapp.py\", line 423, in start\n",
            "    self.convert_notebooks()\n",
            "  File \"/usr/local/lib/python3.10/dist-packages/nbconvert/nbconvertapp.py\", line 597, in convert_notebooks\n",
            "    self.convert_single_notebook(notebook_filename)\n",
            "  File \"/usr/local/lib/python3.10/dist-packages/nbconvert/nbconvertapp.py\", line 560, in convert_single_notebook\n",
            "    output, resources = self.export_single_notebook(\n",
            "  File \"/usr/local/lib/python3.10/dist-packages/nbconvert/nbconvertapp.py\", line 488, in export_single_notebook\n",
            "    output, resources = self.exporter.from_filename(\n",
            "  File \"/usr/local/lib/python3.10/dist-packages/nbconvert/exporters/exporter.py\", line 189, in from_filename\n",
            "    return self.from_file(f, resources=resources, **kw)\n",
            "  File \"/usr/local/lib/python3.10/dist-packages/nbconvert/exporters/exporter.py\", line 206, in from_file\n",
            "    return self.from_notebook_node(\n",
            "  File \"/usr/local/lib/python3.10/dist-packages/nbconvert/exporters/html.py\", line 223, in from_notebook_node\n",
            "    return super().from_notebook_node(nb, resources, **kw)\n",
            "  File \"/usr/local/lib/python3.10/dist-packages/nbconvert/exporters/templateexporter.py\", line 397, in from_notebook_node\n",
            "    nb_copy, resources = super().from_notebook_node(nb, resources, **kw)\n",
            "  File \"/usr/local/lib/python3.10/dist-packages/nbconvert/exporters/exporter.py\", line 146, in from_notebook_node\n",
            "    nb_copy, resources = self._preprocess(nb_copy, resources)\n",
            "  File \"/usr/local/lib/python3.10/dist-packages/nbconvert/exporters/exporter.py\", line 335, in _preprocess\n",
            "    nbc, resc = preprocessor(nbc, resc)\n",
            "  File \"/usr/local/lib/python3.10/dist-packages/nbconvert/preprocessors/base.py\", line 47, in __call__\n",
            "    return self.preprocess(nb, resources)\n",
            "  File \"/usr/local/lib/python3.10/dist-packages/nbconvert/preprocessors/execute.py\", line 89, in preprocess\n",
            "    self.preprocess_cell(cell, resources, index)\n",
            "  File \"/usr/local/lib/python3.10/dist-packages/nbconvert/preprocessors/execute.py\", line 110, in preprocess_cell\n",
            "    cell = self.execute_cell(cell, index, store_history=True)\n",
            "  File \"/usr/local/lib/python3.10/dist-packages/jupyter_core/utils/__init__.py\", line 166, in wrapped\n",
            "    return loop.run_until_complete(inner)\n",
            "  File \"/usr/lib/python3.10/asyncio/base_events.py\", line 646, in run_until_complete\n",
            "    return future.result()\n",
            "  File \"/usr/local/lib/python3.10/dist-packages/nbclient/client.py\", line 1058, in async_execute_cell\n",
            "    await self._check_raise_for_error(cell, cell_index, exec_reply)\n",
            "  File \"/usr/local/lib/python3.10/dist-packages/nbclient/client.py\", line 914, in _check_raise_for_error\n",
            "    raise CellExecutionError.from_cell_and_msg(cell, exec_reply_content)\n",
            "nbclient.exceptions.CellExecutionError: An error occurred while executing the following cell:\n",
            "------------------\n",
            "# Step:2\n",
            "from scipy.stats import t\n",
            "\n",
            "probability = 0.05\n",
            "degrees_of_freedom = 26\n",
            "\n",
            "\n",
            "t.ppf(probability, df=degrees_of_freedom)\n",
            "\n",
            "print(\"Value of t:\", t_value)\n",
            "\n",
            "------------------\n",
            "\n",
            "\n",
            "\u001b[0;31m\u001b[0m\n",
            "\u001b[0;31mNameError\u001b[0mTraceback (most recent call last)\n",
            "\u001b[0;32m<ipython-input-16-9e1a58c55ad3>\u001b[0m in \u001b[0;36m<cell line: 10>\u001b[0;34m()\u001b[0m\n",
            "\u001b[1;32m      8\u001b[0m \u001b[0mt\u001b[0m\u001b[0;34m.\u001b[0m\u001b[0mppf\u001b[0m\u001b[0;34m(\u001b[0m\u001b[0mprobability\u001b[0m\u001b[0;34m,\u001b[0m \u001b[0mdf\u001b[0m\u001b[0;34m=\u001b[0m\u001b[0mdegrees_of_freedom\u001b[0m\u001b[0;34m)\u001b[0m\u001b[0;34m\u001b[0m\u001b[0;34m\u001b[0m\u001b[0m\n",
            "\u001b[1;32m      9\u001b[0m \u001b[0;34m\u001b[0m\u001b[0m\n",
            "\u001b[0;32m---> 10\u001b[0;31m \u001b[0mprint\u001b[0m\u001b[0;34m(\u001b[0m\u001b[0;34m\"Value of t:\"\u001b[0m\u001b[0;34m,\u001b[0m \u001b[0mt_value\u001b[0m\u001b[0;34m)\u001b[0m\u001b[0;34m\u001b[0m\u001b[0;34m\u001b[0m\u001b[0m\n",
            "\u001b[0m\n",
            "\u001b[0;31mNameError\u001b[0m: name 't_value' is not defined\n",
            "\n"
          ]
        }
      ]
    }
  ]
}